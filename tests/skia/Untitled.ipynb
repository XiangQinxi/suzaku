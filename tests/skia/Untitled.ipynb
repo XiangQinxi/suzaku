{
 "cells": [
  {
   "cell_type": "code",
   "id": "71499d94-32ec-4af6-8b7c-68f8de52cc28",
   "metadata": {
    "ExecuteTime": {
     "end_time": "2025-08-19T06:47:01.297783Z",
     "start_time": "2025-08-19T06:47:01.269214Z"
    }
   },
   "source": [
    "from suzaku import *\n",
    "\n",
    "root = Sk(vsync=False)\n",
    "\n",
    "button = SkTextButton(root)\n",
    "button.box(side=\"top\")\n",
    "\n",
    "root.mainloop()"
   ],
   "outputs": [
    {
     "ename": "RuntimeError",
     "evalue": "App is a singleton, use App.get_instance()",
     "output_type": "error",
     "traceback": [
      "\u001B[31m---------------------------------------------------------------------------\u001B[39m",
      "\u001B[31mRuntimeError\u001B[39m                              Traceback (most recent call last)",
      "\u001B[36mCell\u001B[39m\u001B[36m \u001B[39m\u001B[32mIn[3]\u001B[39m\u001B[32m, line 3\u001B[39m\n\u001B[32m      1\u001B[39m \u001B[38;5;28;01mfrom\u001B[39;00m\u001B[38;5;250m \u001B[39m\u001B[34;01msuzaku\u001B[39;00m\u001B[38;5;250m \u001B[39m\u001B[38;5;28;01mimport\u001B[39;00m *\n\u001B[32m----> \u001B[39m\u001B[32m3\u001B[39m root = \u001B[43mSk\u001B[49m\u001B[43m(\u001B[49m\u001B[43mvsync\u001B[49m\u001B[43m=\u001B[49m\u001B[38;5;28;43;01mFalse\u001B[39;49;00m\u001B[43m)\u001B[49m\n\u001B[32m      5\u001B[39m button = SkTextButton(root)\n\u001B[32m      6\u001B[39m button.box(side=\u001B[33m\"\u001B[39m\u001B[33mtop\u001B[39m\u001B[33m\"\u001B[39m)\n",
      "\u001B[36mFile \u001B[39m\u001B[32m~\\PycharmProjects\\suzaku\\suzaku\\widgets\\appwindow.py:23\u001B[39m, in \u001B[36mSkAppWindow.__init__\u001B[39m\u001B[34m(self, is_always_update, is_get_context_on_focus, *args, **kwargs)\u001B[39m\n\u001B[32m      0\u001B[39m <Error retrieving source code with stack_data see ipython/ipython#13598>\n",
      "\u001B[36mFile \u001B[39m\u001B[32m~\\PycharmProjects\\suzaku\\suzaku\\widgets\\app.py:21\u001B[39m, in \u001B[36mSkApp.__init__\u001B[39m\u001B[34m(self, is_always_update, is_get_context_on_focus, *args, **kwargs)\u001B[39m\n\u001B[32m      4\u001B[39m \u001B[38;5;28;01mclass\u001B[39;00m\u001B[38;5;250m \u001B[39m\u001B[34;01mSkApp\u001B[39;00m(SkAppBase):\n\u001B[32m      5\u001B[39m \u001B[38;5;250m    \u001B[39m\u001B[33;03m\"\"\"\u001B[39;00m\n\u001B[32m      6\u001B[39m \u001B[33;03m    :param bool is_always_update:\u001B[39;00m\n\u001B[32m      7\u001B[39m \u001B[33;03m        Whether to continuously refresh (if `False`, refresh only when a window event is triggered).\u001B[39;00m\n\u001B[32m   (...)\u001B[39m\u001B[32m     11\u001B[39m \u001B[33;03m        【是否只有在窗口获得焦点时，获得上下文】\u001B[39;00m\n\u001B[32m     12\u001B[39m \u001B[33;03m    \"\"\"\u001B[39;00m\n\u001B[32m     14\u001B[39m     \u001B[38;5;28;01mdef\u001B[39;00m\u001B[38;5;250m \u001B[39m\u001B[34m__init__\u001B[39m(\n\u001B[32m     15\u001B[39m         \u001B[38;5;28mself\u001B[39m,\n\u001B[32m     16\u001B[39m         *args,\n\u001B[32m     17\u001B[39m         is_always_update: \u001B[38;5;28mbool\u001B[39m = \u001B[38;5;28;01mTrue\u001B[39;00m,\n\u001B[32m     18\u001B[39m         is_get_context_on_focus: \u001B[38;5;28mbool\u001B[39m = \u001B[38;5;28;01mTrue\u001B[39;00m,\n\u001B[32m     19\u001B[39m         vsync: \u001B[38;5;28mbool\u001B[39m = \u001B[38;5;28;01mTrue\u001B[39;00m,\n\u001B[32m     20\u001B[39m         **kwargs,\n\u001B[32m---> \u001B[39m\u001B[32m21\u001B[39m     ) -> \u001B[38;5;28;01mNone\u001B[39;00m:\n\u001B[32m     22\u001B[39m         \u001B[38;5;28msuper\u001B[39m().\u001B[34m__init__\u001B[39m(\n\u001B[32m     23\u001B[39m             *args,\n\u001B[32m     24\u001B[39m             is_always_update=is_always_update,\n\u001B[32m   (...)\u001B[39m\u001B[32m     27\u001B[39m             **kwargs,\n\u001B[32m     28\u001B[39m         )\n",
      "\u001B[36mFile \u001B[39m\u001B[32m~\\PycharmProjects\\suzaku\\suzaku\\base\\appbase.py:102\u001B[39m, in \u001B[36mSkAppBase.__init__\u001B[39m\u001B[34m(self, is_always_update, is_get_context_on_focus, framework)\u001B[39m\n\u001B[32m      0\u001B[39m <Error retrieving source code with stack_data see ipython/ipython#13598>\n",
      "\u001B[31mRuntimeError\u001B[39m: App is a singleton, use App.get_instance()"
     ]
    }
   ],
   "execution_count": 3
  },
  {
   "cell_type": "code",
   "execution_count": null,
   "id": "defd3f88-82ed-4e0b-b9a5-b98f805d68b8",
   "metadata": {},
   "outputs": [],
   "source": []
  }
 ],
 "metadata": {
  "kernelspec": {
   "display_name": "Python 3 (ipykernel)",
   "language": "python",
   "name": "python3"
  },
  "language_info": {
   "codemirror_mode": {
    "name": "ipython",
    "version": 3
   },
   "file_extension": ".py",
   "mimetype": "text/x-python",
   "name": "python",
   "nbconvert_exporter": "python",
   "pygments_lexer": "ipython3",
   "version": "3.13.5"
  }
 },
 "nbformat": 4,
 "nbformat_minor": 5
}
