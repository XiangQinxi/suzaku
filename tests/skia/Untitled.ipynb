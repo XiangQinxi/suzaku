{
 "cells": [
  {
   "cell_type": "code",
   "execution_count": 3,
   "id": "71499d94-32ec-4af6-8b7c-68f8de52cc28",
   "metadata": {},
   "outputs": [
    {
     "ename": "RuntimeError",
     "evalue": "App is a singleton, use App.get_instance()",
     "output_type": "error",
     "traceback": [
      "\u001b[31m---------------------------------------------------------------------------\u001b[39m",
      "\u001b[31mRuntimeError\u001b[39m                              Traceback (most recent call last)",
      "\u001b[36mCell\u001b[39m\u001b[36m \u001b[39m\u001b[32mIn[3]\u001b[39m\u001b[32m, line 3\u001b[39m\n\u001b[32m      1\u001b[39m \u001b[38;5;28;01mfrom\u001b[39;00m\u001b[38;5;250m \u001b[39m\u001b[34;01msuzaku\u001b[39;00m\u001b[38;5;250m \u001b[39m\u001b[38;5;28;01mimport\u001b[39;00m *\n\u001b[32m----> \u001b[39m\u001b[32m3\u001b[39m root = \u001b[43mSk\u001b[49m\u001b[43m(\u001b[49m\u001b[43m)\u001b[49m\n\u001b[32m      5\u001b[39m button = SkTextButton(root)\n\u001b[32m      6\u001b[39m button.box(side=\u001b[33m\"\u001b[39m\u001b[33mtop\u001b[39m\u001b[33m\"\u001b[39m)\n",
      "\u001b[36mFile \u001b[39m\u001b[32mC:\\Python\\Py313\\Lib\\site-packages\\suzaku\\widgets\\appwindow.py:23\u001b[39m, in \u001b[36mSkAppWindow.__init__\u001b[39m\u001b[34m(self, is_always_update, is_get_context_on_focus, *args, **kwargs)\u001b[39m\n\u001b[32m     20\u001b[39m     \u001b[38;5;28;01mif\u001b[39;00m \u001b[33m\"\u001b[39m\u001b[33mforce_hardware_acceleration\u001b[39m\u001b[33m\"\u001b[39m \u001b[38;5;129;01min\u001b[39;00m kwargs.keys():\n\u001b[32m     21\u001b[39m         kwargs.pop(\u001b[33m\"\u001b[39m\u001b[33mforce_hardware_acceleration\u001b[39m\u001b[33m\"\u001b[39m)\n\u001b[32m---> \u001b[39m\u001b[32m23\u001b[39m \u001b[38;5;28mself\u001b[39m.app = \u001b[43mSkApp\u001b[49m\u001b[43m(\u001b[49m\n\u001b[32m     24\u001b[39m \u001b[43m    \u001b[49m\u001b[43mis_always_update\u001b[49m\u001b[43m=\u001b[49m\u001b[43mis_always_update\u001b[49m\u001b[43m,\u001b[49m\n\u001b[32m     25\u001b[39m \u001b[43m    \u001b[49m\u001b[43mis_get_context_on_focus\u001b[49m\u001b[43m=\u001b[49m\u001b[43mis_get_context_on_focus\u001b[49m\u001b[43m,\u001b[49m\n\u001b[32m     26\u001b[39m \u001b[43m\u001b[49m\u001b[43m)\u001b[49m\n\u001b[32m     27\u001b[39m \u001b[38;5;28msuper\u001b[39m().\u001b[34m__init__\u001b[39m(parent=\u001b[38;5;28mself\u001b[39m.app, *args, **kwargs)\n\u001b[32m     28\u001b[39m \u001b[38;5;28;01mif\u001b[39;00m \u001b[38;5;28mself\u001b[39m.\u001b[34m__class__\u001b[39m._instance_count == \u001b[32m0\u001b[39m:\n",
      "\u001b[36mFile \u001b[39m\u001b[32mC:\\Python\\Py313\\Lib\\site-packages\\suzaku\\widgets\\app.py:21\u001b[39m, in \u001b[36mSkApp.__init__\u001b[39m\u001b[34m(self, is_always_update, is_get_context_on_focus, *args, **kwargs)\u001b[39m\n\u001b[32m     14\u001b[39m \u001b[38;5;28;01mdef\u001b[39;00m\u001b[38;5;250m \u001b[39m\u001b[34m__init__\u001b[39m(\n\u001b[32m     15\u001b[39m     \u001b[38;5;28mself\u001b[39m,\n\u001b[32m     16\u001b[39m     *args,\n\u001b[32m   (...)\u001b[39m\u001b[32m     19\u001b[39m     **kwargs,\n\u001b[32m     20\u001b[39m ) -> \u001b[38;5;28;01mNone\u001b[39;00m:\n\u001b[32m---> \u001b[39m\u001b[32m21\u001b[39m     \u001b[38;5;28;43msuper\u001b[39;49m\u001b[43m(\u001b[49m\u001b[43m)\u001b[49m\u001b[43m.\u001b[49m\u001b[34;43m__init__\u001b[39;49m\u001b[43m(\u001b[49m\n\u001b[32m     22\u001b[39m \u001b[43m        \u001b[49m\u001b[43m*\u001b[49m\u001b[43margs\u001b[49m\u001b[43m,\u001b[49m\n\u001b[32m     23\u001b[39m \u001b[43m        \u001b[49m\u001b[43mis_always_update\u001b[49m\u001b[43m=\u001b[49m\u001b[43mis_always_update\u001b[49m\u001b[43m,\u001b[49m\n\u001b[32m     24\u001b[39m \u001b[43m        \u001b[49m\u001b[43mis_get_context_on_focus\u001b[49m\u001b[43m=\u001b[49m\u001b[43mis_get_context_on_focus\u001b[49m\u001b[43m,\u001b[49m\n\u001b[32m     25\u001b[39m \u001b[43m        \u001b[49m\u001b[43m*\u001b[49m\u001b[43m*\u001b[49m\u001b[43mkwargs\u001b[49m\u001b[43m,\u001b[49m\n\u001b[32m     26\u001b[39m \u001b[43m    \u001b[49m\u001b[43m)\u001b[49m\n",
      "\u001b[36mFile \u001b[39m\u001b[32mC:\\Python\\Py313\\Lib\\site-packages\\suzaku\\base\\appbase.py:70\u001b[39m, in \u001b[36mSkAppBase.__init__\u001b[39m\u001b[34m(self, is_always_update, is_get_context_on_focus)\u001b[39m\n\u001b[32m     68\u001b[39m init_glfw()\n\u001b[32m     69\u001b[39m \u001b[38;5;28;01mif\u001b[39;00m SkAppBase._instance \u001b[38;5;129;01mis\u001b[39;00m \u001b[38;5;129;01mnot\u001b[39;00m \u001b[38;5;28;01mNone\u001b[39;00m:\n\u001b[32m---> \u001b[39m\u001b[32m70\u001b[39m     \u001b[38;5;28;01mraise\u001b[39;00m \u001b[38;5;167;01mRuntimeError\u001b[39;00m(\u001b[33m\"\u001b[39m\u001b[33mApp is a singleton, use App.get_instance()\u001b[39m\u001b[33m\"\u001b[39m)\n\u001b[32m     71\u001b[39m SkAppBase._instance = \u001b[38;5;28mself\u001b[39m\n",
      "\u001b[31mRuntimeError\u001b[39m: App is a singleton, use App.get_instance()"
     ]
    }
   ],
   "source": [
    "from suzaku import *\n",
    "\n",
    "root = Sk()\n",
    "\n",
    "button = SkTextButton(root)\n",
    "button.box(side=\"top\")\n",
    "\n",
    "root.mainloop()"
   ]
  },
  {
   "cell_type": "code",
   "execution_count": null,
   "id": "defd3f88-82ed-4e0b-b9a5-b98f805d68b8",
   "metadata": {},
   "outputs": [],
   "source": []
  }
 ],
 "metadata": {
  "kernelspec": {
   "display_name": "Python 3 (ipykernel)",
   "language": "python",
   "name": "python3"
  },
  "language_info": {
   "codemirror_mode": {
    "name": "ipython",
    "version": 3
   },
   "file_extension": ".py",
   "mimetype": "text/x-python",
   "name": "python",
   "nbconvert_exporter": "python",
   "pygments_lexer": "ipython3",
   "version": "3.13.5"
  }
 },
 "nbformat": 4,
 "nbformat_minor": 5
}
